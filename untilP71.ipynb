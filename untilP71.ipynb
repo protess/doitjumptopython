{
 "cells": [
  {
   "cell_type": "code",
   "execution_count": 14,
   "id": "f63e945b",
   "metadata": {},
   "outputs": [],
   "source": [
    "# numbers\n",
    "a = 123\n",
    "a = -123\n",
    "a = 0"
   ]
  },
  {
   "cell_type": "code",
   "execution_count": 4,
   "id": "f6b7f7e4",
   "metadata": {},
   "outputs": [
    {
     "name": "stdout",
     "output_type": "stream",
     "text": [
      "0\n"
     ]
    }
   ],
   "source": [
    "print (a)"
   ]
  },
  {
   "cell_type": "code",
   "execution_count": 5,
   "id": "bbf47b5b",
   "metadata": {},
   "outputs": [],
   "source": [
    "b = 1.2\n",
    "b = -3.45"
   ]
  },
  {
   "cell_type": "code",
   "execution_count": 6,
   "id": "465d29d7",
   "metadata": {},
   "outputs": [
    {
     "name": "stdout",
     "output_type": "stream",
     "text": [
      "-3.45\n"
     ]
    }
   ],
   "source": [
    "print (b)"
   ]
  },
  {
   "cell_type": "code",
   "execution_count": 7,
   "id": "3e60e96d",
   "metadata": {},
   "outputs": [
    {
     "data": {
      "text/plain": [
       "-3.45"
      ]
     },
     "execution_count": 7,
     "metadata": {},
     "output_type": "execute_result"
    }
   ],
   "source": [
    "a + b"
   ]
  },
  {
   "cell_type": "code",
   "execution_count": 13,
   "id": "b040942f",
   "metadata": {},
   "outputs": [
    {
     "name": "stdout",
     "output_type": "stream",
     "text": [
      "-3.45\n"
     ]
    }
   ],
   "source": [
    "print (a + b)"
   ]
  },
  {
   "cell_type": "code",
   "execution_count": 26,
   "id": "0d2c6181",
   "metadata": {},
   "outputs": [
    {
     "data": {
      "text/plain": [
       "'Do or do not. There is no try.'"
      ]
     },
     "execution_count": 26,
     "metadata": {},
     "output_type": "execute_result"
    }
   ],
   "source": [
    "# strings\n",
    "\"Do or do not. There is no try.\""
   ]
  },
  {
   "cell_type": "code",
   "execution_count": 28,
   "id": "457b1981",
   "metadata": {},
   "outputs": [
    {
     "data": {
      "text/plain": [
       "'You must unlearn what you have learned'"
      ]
     },
     "execution_count": 28,
     "metadata": {},
     "output_type": "execute_result"
    }
   ],
   "source": [
    "'You must unlearn what you have learned'"
   ]
  },
  {
   "cell_type": "code",
   "execution_count": 30,
   "id": "92cdf238",
   "metadata": {},
   "outputs": [
    {
     "data": {
      "text/plain": [
       "'May the force be with you'"
      ]
     },
     "execution_count": 30,
     "metadata": {},
     "output_type": "execute_result"
    }
   ],
   "source": [
    "\"\"\"May the force be with you\"\"\""
   ]
  },
  {
   "cell_type": "code",
   "execution_count": 31,
   "id": "9dc7d28e",
   "metadata": {},
   "outputs": [
    {
     "data": {
      "text/plain": [
       "'The greatest teacher, failure is.'"
      ]
     },
     "execution_count": 31,
     "metadata": {},
     "output_type": "execute_result"
    }
   ],
   "source": [
    "'''The greatest teacher, failure is.'''"
   ]
  },
  {
   "cell_type": "code",
   "execution_count": 32,
   "id": "29e28e67",
   "metadata": {},
   "outputs": [],
   "source": [
    "patience = \"Patience you must have, my young padawan.\""
   ]
  },
  {
   "cell_type": "code",
   "execution_count": 33,
   "id": "a6b20180",
   "metadata": {},
   "outputs": [],
   "source": [
    "do = \"Do or do not. There is no try.\""
   ]
  },
  {
   "cell_type": "code",
   "execution_count": 34,
   "id": "f8485bf8",
   "metadata": {},
   "outputs": [
    {
     "name": "stdout",
     "output_type": "stream",
     "text": [
      "Patience you must have, my young padawan.\n",
      "Do or do not. There is no try.\n"
     ]
    }
   ],
   "source": [
    "print (patience + \"\\n\" + do)"
   ]
  },
  {
   "cell_type": "code",
   "execution_count": 35,
   "id": "b97e2384",
   "metadata": {},
   "outputs": [],
   "source": [
    "multiline = \"\"\"The greates teacher, failure is.\\nMay the force be with you.\"\"\""
   ]
  },
  {
   "cell_type": "code",
   "execution_count": 36,
   "id": "34f46958",
   "metadata": {},
   "outputs": [
    {
     "name": "stdout",
     "output_type": "stream",
     "text": [
      "The greates teacher, failure is.\n",
      "May the force be with you.\n"
     ]
    }
   ],
   "source": [
    "print (multiline)"
   ]
  },
  {
   "cell_type": "code",
   "execution_count": 37,
   "id": "707d8bcb",
   "metadata": {},
   "outputs": [
    {
     "name": "stdout",
     "output_type": "stream",
     "text": [
      "Do or do not. There is no try.Do or do not. There is no try.\n"
     ]
    }
   ],
   "source": [
    "print (do * 2)"
   ]
  },
  {
   "cell_type": "code",
   "execution_count": 39,
   "id": "c3dd1904",
   "metadata": {},
   "outputs": [
    {
     "name": "stdout",
     "output_type": "stream",
     "text": [
      "==============================\n",
      "Do or do not. There is no try.\n",
      "==============================\n"
     ]
    }
   ],
   "source": [
    "print (\"=\" * 30)\n",
    "print (do)\n",
    "print (\"=\" * 30)"
   ]
  },
  {
   "cell_type": "code",
   "execution_count": 40,
   "id": "d2fc53e0",
   "metadata": {},
   "outputs": [
    {
     "data": {
      "text/plain": [
       "30"
      ]
     },
     "execution_count": 40,
     "metadata": {},
     "output_type": "execute_result"
    }
   ],
   "source": [
    "len(do)"
   ]
  },
  {
   "cell_type": "code",
   "execution_count": 43,
   "id": "cae5ae22",
   "metadata": {},
   "outputs": [
    {
     "data": {
      "text/plain": [
       "'r'"
      ]
     },
     "execution_count": 43,
     "metadata": {},
     "output_type": "execute_result"
    }
   ],
   "source": [
    "do[4]"
   ]
  },
  {
   "cell_type": "code",
   "execution_count": 46,
   "id": "8f8de802",
   "metadata": {},
   "outputs": [],
   "source": [
    "dont = do[5:12]"
   ]
  },
  {
   "cell_type": "code",
   "execution_count": 47,
   "id": "9c8e22b3",
   "metadata": {},
   "outputs": [
    {
     "name": "stdout",
     "output_type": "stream",
     "text": [
      " do not\n"
     ]
    }
   ],
   "source": [
    "print (dont)"
   ]
  },
  {
   "cell_type": "code",
   "execution_count": 50,
   "id": "ec89c45d",
   "metadata": {},
   "outputs": [
    {
     "name": "stdout",
     "output_type": "stream",
     "text": [
      "date is: 2021/10/29 weather is: 맑음\n"
     ]
    }
   ],
   "source": [
    "a = \"20211029맑음\"\n",
    "year = a[:4]\n",
    "month = a[4:6]\n",
    "day = a[6:8]\n",
    "weather = a[8:]\n",
    "print (\"date is: \" + year + \"/\" + month + \"/\" + day + \" weather is: \" + weather)"
   ]
  },
  {
   "cell_type": "code",
   "execution_count": 51,
   "id": "8be8119e",
   "metadata": {},
   "outputs": [
    {
     "data": {
      "text/plain": [
       "7"
      ]
     },
     "execution_count": 51,
     "metadata": {},
     "output_type": "execute_result"
    }
   ],
   "source": [
    "a.index('9')"
   ]
  },
  {
   "cell_type": "code",
   "execution_count": 52,
   "id": "a0395063",
   "metadata": {},
   "outputs": [
    {
     "data": {
      "text/plain": [
       "'Do or do not. There is no 츄라이.'"
      ]
     },
     "execution_count": 52,
     "metadata": {},
     "output_type": "execute_result"
    }
   ],
   "source": [
    "do.replace(\"try\", \"츄라이\")"
   ]
  },
  {
   "cell_type": "code",
   "execution_count": 53,
   "id": "153732bf",
   "metadata": {},
   "outputs": [
    {
     "data": {
      "text/plain": [
       "['Do', 'or', 'do', 'not.', 'There', 'is', 'no', 'try.']"
      ]
     },
     "execution_count": 53,
     "metadata": {},
     "output_type": "execute_result"
    }
   ],
   "source": [
    "do.split()"
   ]
  },
  {
   "cell_type": "code",
   "execution_count": null,
   "id": "3cc037ba",
   "metadata": {},
   "outputs": [],
   "source": []
  }
 ],
 "metadata": {
  "kernelspec": {
   "display_name": "Python 3",
   "language": "python",
   "name": "python3"
  },
  "language_info": {
   "codemirror_mode": {
    "name": "ipython",
    "version": 3
   },
   "file_extension": ".py",
   "mimetype": "text/x-python",
   "name": "python",
   "nbconvert_exporter": "python",
   "pygments_lexer": "ipython3",
   "version": "3.8.8"
  }
 },
 "nbformat": 4,
 "nbformat_minor": 5
}
